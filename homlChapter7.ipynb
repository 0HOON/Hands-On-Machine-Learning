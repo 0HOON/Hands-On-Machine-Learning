{
 "cells": [
  {
   "cell_type": "code",
   "execution_count": 1,
   "metadata": {},
   "outputs": [],
   "source": [
    "from sklearn.model_selection import train_test_split\n",
    "from sklearn.datasets import make_moons\n",
    "\n",
    "X, y = make_moons(n_samples=500, noise=0.30, random_state=42)\n",
    "X_train, X_test, y_train, y_test = train_test_split(X, y, random_state=42)"
   ]
  },
  {
   "cell_type": "code",
   "execution_count": 2,
   "metadata": {},
   "outputs": [
    {
     "data": {
      "text/plain": [
       "VotingClassifier(estimators=[('lr', LogisticRegression(C=1.0, class_weight=None, dual=False, fit_intercept=True,\n",
       "          intercept_scaling=1, max_iter=100, multi_class='ovr', n_jobs=1,\n",
       "          penalty='l2', random_state=None, solver='liblinear', tol=0.0001,\n",
       "          verbose=0, warm_start=False)), ('rf', RandomF...',\n",
       "  max_iter=-1, probability=True, random_state=None, shrinking=True,\n",
       "  tol=0.001, verbose=False))],\n",
       "         flatten_transform=None, n_jobs=1, voting='soft', weights=None)"
      ]
     },
     "execution_count": 2,
     "metadata": {},
     "output_type": "execute_result"
    }
   ],
   "source": [
    "from sklearn.ensemble import RandomForestClassifier\n",
    "from sklearn.ensemble import VotingClassifier\n",
    "from sklearn.linear_model import LogisticRegression\n",
    "from sklearn.svm import SVC\n",
    "\n",
    "log_clf = LogisticRegression()\n",
    "rnd_clf = RandomForestClassifier()\n",
    "svm_clf = SVC(probability=True)\n",
    "\n",
    "voting_clf = VotingClassifier(estimators=[('lr', log_clf), ('rf', rnd_clf), ('svc', svm_clf) ], voting='soft')\n",
    "voting_clf.fit(X_train, y_train)"
   ]
  },
  {
   "cell_type": "code",
   "execution_count": 3,
   "metadata": {},
   "outputs": [
    {
     "name": "stdout",
     "output_type": "stream",
     "text": [
      "LogisticRegression 0.864\n",
      "RandomForestClassifier 0.88\n",
      "SVC 0.888\n",
      "VotingClassifier 0.928\n"
     ]
    },
    {
     "name": "stderr",
     "output_type": "stream",
     "text": [
      "C:\\ProgramData\\Anaconda3\\lib\\site-packages\\sklearn\\preprocessing\\label.py:151: DeprecationWarning: The truth value of an empty array is ambiguous. Returning False, but in future this will result in an error. Use `array.size > 0` to check that an array is not empty.\n",
      "  if diff:\n"
     ]
    }
   ],
   "source": [
    "from sklearn.metrics import accuracy_score\n",
    "for clf in (log_clf, rnd_clf, svm_clf, voting_clf):\n",
    "    clf.fit(X_train, y_train)\n",
    "    y_pred = clf.predict(X_test)\n",
    "    print(clf.__class__.__name__, accuracy_score(y_test, y_pred))"
   ]
  },
  {
   "cell_type": "code",
   "execution_count": 4,
   "metadata": {},
   "outputs": [
    {
     "name": "stdout",
     "output_type": "stream",
     "text": [
      "0.912\n"
     ]
    }
   ],
   "source": [
    "#bagging\n",
    "from sklearn.ensemble import BaggingClassifier\n",
    "from sklearn.tree import DecisionTreeClassifier\n",
    "\n",
    "bag_clf = BaggingClassifier(DecisionTreeClassifier(), n_estimators=500, max_samples=100, bootstrap=True, n_jobs=-1)\n",
    "bag_clf.fit(X_train, y_train)\n",
    "y_pred = bag_clf.predict(X_test)\n",
    "print (accuracy_score(y_test, y_pred))"
   ]
  },
  {
   "cell_type": "code",
   "execution_count": 5,
   "metadata": {},
   "outputs": [
    {
     "data": {
      "text/plain": [
       "0.9013333333333333"
      ]
     },
     "execution_count": 5,
     "metadata": {},
     "output_type": "execute_result"
    }
   ],
   "source": [
    "bag_clf = BaggingClassifier(DecisionTreeClassifier(), n_estimators=500, bootstrap=True, n_jobs=-1, oob_score=True)\n",
    "bag_clf.fit(X_train,y_train)\n",
    "bag_clf.oob_score_"
   ]
  },
  {
   "cell_type": "code",
   "execution_count": 6,
   "metadata": {},
   "outputs": [
    {
     "name": "stdout",
     "output_type": "stream",
     "text": [
      "0.896\n"
     ]
    }
   ],
   "source": [
    "y_pred = bag_clf.predict(X_test)\n",
    "print (accuracy_score(y_test, y_pred))"
   ]
  },
  {
   "cell_type": "code",
   "execution_count": 7,
   "metadata": {},
   "outputs": [
    {
     "data": {
      "text/plain": [
       "array([[0.42211055, 0.57788945],\n",
       "       [0.33004926, 0.66995074],\n",
       "       [1.        , 0.        ],\n",
       "       [0.        , 1.        ],\n",
       "       [0.        , 1.        ],\n",
       "       [0.06914894, 0.93085106],\n",
       "       [0.3480663 , 0.6519337 ],\n",
       "       [0.0326087 , 0.9673913 ],\n",
       "       [0.98963731, 0.01036269],\n",
       "       [0.97175141, 0.02824859],\n",
       "       [0.72826087, 0.27173913],\n",
       "       [0.00526316, 0.99473684],\n",
       "       [0.73142857, 0.26857143],\n",
       "       [0.86010363, 0.13989637],\n",
       "       [0.93452381, 0.06547619],\n",
       "       [0.03428571, 0.96571429],\n",
       "       [0.        , 1.        ],\n",
       "       [0.97814208, 0.02185792],\n",
       "       [0.93264249, 0.06735751],\n",
       "       [0.98958333, 0.01041667],\n",
       "       [0.00564972, 0.99435028],\n",
       "       [0.32065217, 0.67934783],\n",
       "       [0.92655367, 0.07344633],\n",
       "       [1.        , 0.        ],\n",
       "       [0.9704142 , 0.0295858 ],\n",
       "       [0.        , 1.        ],\n",
       "       [0.99447514, 0.00552486],\n",
       "       [1.        , 0.        ],\n",
       "       [0.        , 1.        ],\n",
       "       [0.6492891 , 0.3507109 ],\n",
       "       [0.        , 1.        ],\n",
       "       [1.        , 0.        ],\n",
       "       [0.        , 1.        ],\n",
       "       [0.        , 1.        ],\n",
       "       [0.09039548, 0.90960452],\n",
       "       [1.        , 0.        ],\n",
       "       [0.00515464, 0.99484536],\n",
       "       [0.41758242, 0.58241758],\n",
       "       [0.        , 1.        ],\n",
       "       [1.        , 0.        ],\n",
       "       [0.2173913 , 0.7826087 ],\n",
       "       [0.4076087 , 0.5923913 ],\n",
       "       [1.        , 0.        ],\n",
       "       [1.        , 0.        ],\n",
       "       [0.        , 1.        ],\n",
       "       [1.        , 0.        ],\n",
       "       [1.        , 0.        ],\n",
       "       [0.01604278, 0.98395722],\n",
       "       [1.        , 0.        ],\n",
       "       [0.00561798, 0.99438202],\n",
       "       [0.98850575, 0.01149425],\n",
       "       [0.89880952, 0.10119048],\n",
       "       [0.96531792, 0.03468208],\n",
       "       [0.93877551, 0.06122449],\n",
       "       [0.        , 1.        ],\n",
       "       [0.04736842, 0.95263158],\n",
       "       [0.97282609, 0.02717391],\n",
       "       [0.        , 1.        ],\n",
       "       [0.        , 1.        ],\n",
       "       [0.00564972, 0.99435028],\n",
       "       [0.98351648, 0.01648352],\n",
       "       [0.80110497, 0.19889503],\n",
       "       [0.36263736, 0.63736264],\n",
       "       [0.99462366, 0.00537634],\n",
       "       [0.        , 1.        ],\n",
       "       [0.66071429, 0.33928571],\n",
       "       [1.        , 0.        ],\n",
       "       [1.        , 0.        ],\n",
       "       [0.86127168, 0.13872832],\n",
       "       [1.        , 0.        ],\n",
       "       [0.60416667, 0.39583333],\n",
       "       [0.12755102, 0.87244898],\n",
       "       [0.54913295, 0.45086705],\n",
       "       [0.91803279, 0.08196721],\n",
       "       [0.        , 1.        ],\n",
       "       [0.20689655, 0.79310345],\n",
       "       [0.89839572, 0.10160428],\n",
       "       [1.        , 0.        ],\n",
       "       [0.        , 1.        ],\n",
       "       [1.        , 0.        ],\n",
       "       [0.        , 1.        ],\n",
       "       [0.0326087 , 0.9673913 ],\n",
       "       [0.02139037, 0.97860963],\n",
       "       [0.35483871, 0.64516129],\n",
       "       [1.        , 0.        ],\n",
       "       [0.        , 1.        ],\n",
       "       [0.85641026, 0.14358974],\n",
       "       [0.        , 1.        ],\n",
       "       [0.        , 1.        ],\n",
       "       [0.        , 1.        ],\n",
       "       [0.27040816, 0.72959184],\n",
       "       [1.        , 0.        ],\n",
       "       [0.        , 1.        ],\n",
       "       [0.        , 1.        ],\n",
       "       [0.        , 1.        ],\n",
       "       [0.89655172, 0.10344828],\n",
       "       [0.78191489, 0.21808511],\n",
       "       [0.01010101, 0.98989899],\n",
       "       [1.        , 0.        ],\n",
       "       [0.19371728, 0.80628272],\n",
       "       [0.66129032, 0.33870968],\n",
       "       [0.00609756, 0.99390244],\n",
       "       [0.05555556, 0.94444444],\n",
       "       [0.45856354, 0.54143646],\n",
       "       [1.        , 0.        ],\n",
       "       [0.02116402, 0.97883598],\n",
       "       [0.98295455, 0.01704545],\n",
       "       [0.21787709, 0.78212291],\n",
       "       [0.49450549, 0.50549451],\n",
       "       [1.        , 0.        ],\n",
       "       [0.02173913, 0.97826087],\n",
       "       [0.98295455, 0.01704545],\n",
       "       [0.25824176, 0.74175824],\n",
       "       [0.90607735, 0.09392265],\n",
       "       [1.        , 0.        ],\n",
       "       [1.        , 0.        ],\n",
       "       [0.        , 1.        ],\n",
       "       [0.        , 1.        ],\n",
       "       [0.75980392, 0.24019608],\n",
       "       [1.        , 0.        ],\n",
       "       [0.00552486, 0.99447514],\n",
       "       [1.        , 0.        ],\n",
       "       [0.99438202, 0.00561798],\n",
       "       [1.        , 0.        ],\n",
       "       [0.99401198, 0.00598802],\n",
       "       [1.        , 0.        ],\n",
       "       [0.        , 1.        ],\n",
       "       [0.97311828, 0.02688172],\n",
       "       [1.        , 0.        ],\n",
       "       [0.02777778, 0.97222222],\n",
       "       [0.195     , 0.805     ],\n",
       "       [0.98924731, 0.01075269],\n",
       "       [0.30434783, 0.69565217],\n",
       "       [0.97979798, 0.02020202],\n",
       "       [0.        , 1.        ],\n",
       "       [0.01041667, 0.98958333],\n",
       "       [0.71957672, 0.28042328],\n",
       "       [0.32596685, 0.67403315],\n",
       "       [0.37440758, 0.62559242],\n",
       "       [0.84263959, 0.15736041],\n",
       "       [0.94329897, 0.05670103],\n",
       "       [0.03763441, 0.96236559],\n",
       "       [0.88700565, 0.11299435],\n",
       "       [0.        , 1.        ],\n",
       "       [0.        , 1.        ],\n",
       "       [0.02673797, 0.97326203],\n",
       "       [0.96610169, 0.03389831],\n",
       "       [1.        , 0.        ],\n",
       "       [1.        , 0.        ],\n",
       "       [0.        , 1.        ],\n",
       "       [0.        , 1.        ],\n",
       "       [0.00531915, 0.99468085],\n",
       "       [0.        , 1.        ],\n",
       "       [1.        , 0.        ],\n",
       "       [1.        , 0.        ],\n",
       "       [0.98214286, 0.01785714],\n",
       "       [1.        , 0.        ],\n",
       "       [1.        , 0.        ],\n",
       "       [0.99411765, 0.00588235],\n",
       "       [0.        , 1.        ],\n",
       "       [0.41764706, 0.58235294],\n",
       "       [0.22580645, 0.77419355],\n",
       "       [0.        , 1.        ],\n",
       "       [0.        , 1.        ],\n",
       "       [0.27225131, 0.72774869],\n",
       "       [1.        , 0.        ],\n",
       "       [1.        , 0.        ],\n",
       "       [0.        , 1.        ],\n",
       "       [1.        , 0.        ],\n",
       "       [0.00546448, 0.99453552],\n",
       "       [0.        , 1.        ],\n",
       "       [0.97058824, 0.02941176],\n",
       "       [0.        , 1.        ],\n",
       "       [0.        , 1.        ],\n",
       "       [1.        , 0.        ],\n",
       "       [0.        , 1.        ],\n",
       "       [0.60215054, 0.39784946],\n",
       "       [0.92134831, 0.07865169],\n",
       "       [0.        , 1.        ],\n",
       "       [0.98870056, 0.01129944],\n",
       "       [0.98958333, 0.01041667],\n",
       "       [0.99470899, 0.00529101],\n",
       "       [0.        , 1.        ],\n",
       "       [0.        , 1.        ],\n",
       "       [1.        , 0.        ],\n",
       "       [0.08910891, 0.91089109],\n",
       "       [1.        , 0.        ],\n",
       "       [0.04891304, 0.95108696],\n",
       "       [0.        , 1.        ],\n",
       "       [1.        , 0.        ],\n",
       "       [0.        , 1.        ],\n",
       "       [0.03141361, 0.96858639],\n",
       "       [1.        , 0.        ],\n",
       "       [0.95628415, 0.04371585],\n",
       "       [0.73626374, 0.26373626],\n",
       "       [0.65053763, 0.34946237],\n",
       "       [0.        , 1.        ],\n",
       "       [0.11731844, 0.88268156],\n",
       "       [1.        , 0.        ],\n",
       "       [0.92715232, 0.07284768],\n",
       "       [0.97849462, 0.02150538],\n",
       "       [1.        , 0.        ],\n",
       "       [0.00568182, 0.99431818],\n",
       "       [0.        , 1.        ],\n",
       "       [0.48241206, 0.51758794],\n",
       "       [0.79473684, 0.20526316],\n",
       "       [0.        , 1.        ],\n",
       "       [0.        , 1.        ],\n",
       "       [1.        , 0.        ],\n",
       "       [0.01578947, 0.98421053],\n",
       "       [0.        , 1.        ],\n",
       "       [0.97674419, 0.02325581],\n",
       "       [0.        , 1.        ],\n",
       "       [0.24043716, 0.75956284],\n",
       "       [0.        , 1.        ],\n",
       "       [1.        , 0.        ],\n",
       "       [0.00518135, 0.99481865],\n",
       "       [0.        , 1.        ],\n",
       "       [0.98192771, 0.01807229],\n",
       "       [0.80701754, 0.19298246],\n",
       "       [1.        , 0.        ],\n",
       "       [0.00568182, 0.99431818],\n",
       "       [0.08379888, 0.91620112],\n",
       "       [0.99428571, 0.00571429],\n",
       "       [0.06214689, 0.93785311],\n",
       "       [0.        , 1.        ],\n",
       "       [0.05128205, 0.94871795],\n",
       "       [1.        , 0.        ],\n",
       "       [0.79459459, 0.20540541],\n",
       "       [0.        , 1.        ],\n",
       "       [0.89502762, 0.10497238],\n",
       "       [0.98802395, 0.01197605],\n",
       "       [0.19487179, 0.80512821],\n",
       "       [0.25      , 0.75      ],\n",
       "       [1.        , 0.        ],\n",
       "       [0.        , 1.        ],\n",
       "       [0.00617284, 0.99382716],\n",
       "       [0.        , 1.        ],\n",
       "       [0.23809524, 0.76190476],\n",
       "       [0.99453552, 0.00546448],\n",
       "       [0.        , 1.        ],\n",
       "       [1.        , 0.        ],\n",
       "       [0.98895028, 0.01104972],\n",
       "       [0.        , 1.        ],\n",
       "       [0.55191257, 0.44808743],\n",
       "       [1.        , 0.        ],\n",
       "       [0.        , 1.        ],\n",
       "       [1.        , 0.        ],\n",
       "       [0.        , 1.        ],\n",
       "       [0.        , 1.        ],\n",
       "       [0.07909605, 0.92090395],\n",
       "       [0.11413043, 0.88586957],\n",
       "       [0.9939759 , 0.0060241 ],\n",
       "       [0.00520833, 0.99479167],\n",
       "       [1.        , 0.        ],\n",
       "       [0.37931034, 0.62068966],\n",
       "       [0.13661202, 0.86338798],\n",
       "       [0.58549223, 0.41450777],\n",
       "       [0.63043478, 0.36956522],\n",
       "       [0.        , 1.        ],\n",
       "       [1.        , 0.        ],\n",
       "       [0.        , 1.        ],\n",
       "       [0.        , 1.        ],\n",
       "       [0.59649123, 0.40350877],\n",
       "       [0.        , 1.        ],\n",
       "       [1.        , 0.        ],\n",
       "       [0.24324324, 0.75675676],\n",
       "       [0.80555556, 0.19444444],\n",
       "       [0.0982659 , 0.9017341 ],\n",
       "       [1.        , 0.        ],\n",
       "       [0.81052632, 0.18947368],\n",
       "       [0.        , 1.        ],\n",
       "       [0.00564972, 0.99435028],\n",
       "       [0.07777778, 0.92222222],\n",
       "       [0.02631579, 0.97368421],\n",
       "       [0.        , 1.        ],\n",
       "       [0.99473684, 0.00526316],\n",
       "       [0.8969697 , 0.1030303 ],\n",
       "       [0.14942529, 0.85057471],\n",
       "       [0.93650794, 0.06349206],\n",
       "       [0.00552486, 0.99447514],\n",
       "       [0.60693642, 0.39306358],\n",
       "       [0.09326425, 0.90673575],\n",
       "       [0.98324022, 0.01675978],\n",
       "       [0.81927711, 0.18072289],\n",
       "       [0.        , 1.        ],\n",
       "       [1.        , 0.        ],\n",
       "       [0.95187166, 0.04812834],\n",
       "       [0.        , 1.        ],\n",
       "       [0.        , 1.        ],\n",
       "       [1.        , 0.        ],\n",
       "       [0.        , 1.        ],\n",
       "       [1.        , 0.        ],\n",
       "       [0.28494624, 0.71505376],\n",
       "       [0.98994975, 0.01005025],\n",
       "       [1.        , 0.        ],\n",
       "       [0.        , 1.        ],\n",
       "       [0.00578035, 0.99421965],\n",
       "       [0.78609626, 0.21390374],\n",
       "       [0.        , 1.        ],\n",
       "       [1.        , 0.        ],\n",
       "       [0.69642857, 0.30357143],\n",
       "       [0.92972973, 0.07027027],\n",
       "       [1.        , 0.        ],\n",
       "       [0.75661376, 0.24338624],\n",
       "       [0.53005464, 0.46994536],\n",
       "       [0.        , 1.        ],\n",
       "       [0.9030303 , 0.0969697 ],\n",
       "       [0.00469484, 0.99530516],\n",
       "       [1.        , 0.        ],\n",
       "       [0.86764706, 0.13235294],\n",
       "       [1.        , 0.        ],\n",
       "       [1.        , 0.        ],\n",
       "       [0.77325581, 0.22674419],\n",
       "       [0.12565445, 0.87434555],\n",
       "       [0.52      , 0.48      ],\n",
       "       [0.2238806 , 0.7761194 ],\n",
       "       [0.        , 1.        ],\n",
       "       [0.86153846, 0.13846154],\n",
       "       [0.8121547 , 0.1878453 ],\n",
       "       [0.00564972, 0.99435028],\n",
       "       [1.        , 0.        ],\n",
       "       [0.98895028, 0.01104972],\n",
       "       [1.        , 0.        ],\n",
       "       [0.        , 1.        ],\n",
       "       [0.01595745, 0.98404255],\n",
       "       [0.94915254, 0.05084746],\n",
       "       [0.95652174, 0.04347826],\n",
       "       [1.        , 0.        ],\n",
       "       [0.44886364, 0.55113636],\n",
       "       [1.        , 0.        ],\n",
       "       [0.00561798, 0.99438202],\n",
       "       [0.97326203, 0.02673797],\n",
       "       [0.01081081, 0.98918919],\n",
       "       [1.        , 0.        ],\n",
       "       [1.        , 0.        ],\n",
       "       [1.        , 0.        ],\n",
       "       [0.        , 1.        ],\n",
       "       [0.96858639, 0.03141361],\n",
       "       [0.        , 1.        ],\n",
       "       [0.05025126, 0.94974874],\n",
       "       [0.        , 1.        ],\n",
       "       [0.        , 1.        ],\n",
       "       [1.        , 0.        ],\n",
       "       [1.        , 0.        ],\n",
       "       [0.        , 1.        ],\n",
       "       [0.99415205, 0.00584795],\n",
       "       [0.01058201, 0.98941799],\n",
       "       [1.        , 0.        ],\n",
       "       [0.13397129, 0.86602871],\n",
       "       [0.00571429, 0.99428571],\n",
       "       [0.00609756, 0.99390244],\n",
       "       [0.        , 1.        ],\n",
       "       [0.36111111, 0.63888889],\n",
       "       [0.09947644, 0.90052356],\n",
       "       [0.20689655, 0.79310345],\n",
       "       [1.        , 0.        ],\n",
       "       [0.98333333, 0.01666667],\n",
       "       [0.1865285 , 0.8134715 ],\n",
       "       [0.98324022, 0.01675978],\n",
       "       [0.        , 1.        ],\n",
       "       [0.        , 1.        ],\n",
       "       [1.        , 0.        ],\n",
       "       [0.93582888, 0.06417112],\n",
       "       [0.31034483, 0.68965517],\n",
       "       [0.99428571, 0.00571429],\n",
       "       [1.        , 0.        ],\n",
       "       [0.00543478, 0.99456522],\n",
       "       [0.98876404, 0.01123596],\n",
       "       [0.        , 1.        ],\n",
       "       [0.02051282, 0.97948718],\n",
       "       [0.97740113, 0.02259887],\n",
       "       [1.        , 0.        ],\n",
       "       [0.03664921, 0.96335079],\n",
       "       [0.57754011, 0.42245989]])"
      ]
     },
     "execution_count": 7,
     "metadata": {},
     "output_type": "execute_result"
    }
   ],
   "source": [
    "bag_clf.oob_decision_function_"
   ]
  },
  {
   "cell_type": "code",
   "execution_count": 8,
   "metadata": {},
   "outputs": [
    {
     "name": "stdout",
     "output_type": "stream",
     "text": [
      "0.912\n"
     ]
    }
   ],
   "source": [
    "from sklearn.ensemble import RandomForestClassifier\n",
    "\n",
    "rnd_clf = RandomForestClassifier(n_estimators=500, max_leaf_nodes=16, n_jobs=-1)\n",
    "rnd_clf.fit(X_train, y_train)\n",
    "\n",
    "y_pred_rf = rnd_clf.predict(X_test)\n",
    "print (accuracy_score(y_test, y_pred_rf))"
   ]
  },
  {
   "cell_type": "code",
   "execution_count": 9,
   "metadata": {},
   "outputs": [
    {
     "name": "stdout",
     "output_type": "stream",
     "text": [
      "0.912\n"
     ]
    }
   ],
   "source": [
    "from sklearn.ensemble import ExtraTreesClassifier\n",
    "ext_clf = ExtraTreesClassifier(n_estimators=500, max_leaf_nodes=16, n_jobs=-1)\n",
    "ext_clf.fit(X_train, y_train)\n",
    "\n",
    "y_pred_ext = ext_clf.predict(X_test)\n",
    "print(accuracy_score(y_test,y_pred_ext))"
   ]
  },
  {
   "cell_type": "code",
   "execution_count": 10,
   "metadata": {},
   "outputs": [
    {
     "name": "stdout",
     "output_type": "stream",
     "text": [
      "sepal length (cm) 0.0968774818346674\n",
      "sepal width (cm) 0.022337304233545838\n",
      "petal length (cm) 0.4342481297065611\n",
      "petal width (cm) 0.4465370842252255\n"
     ]
    }
   ],
   "source": [
    "from sklearn.datasets import load_iris\n",
    "iris = load_iris()\n",
    "rnd_clf = RandomForestClassifier(n_estimators=500, n_jobs=-1)\n",
    "rnd_clf.fit(iris[\"data\"], iris[\"target\"])\n",
    "for name, score in zip(iris[\"feature_names\"], rnd_clf.feature_importances_):\n",
    "    print(name,score)"
   ]
  },
  {
   "cell_type": "code",
   "execution_count": 11,
   "metadata": {},
   "outputs": [
    {
     "data": {
      "text/plain": [
       "AdaBoostClassifier(algorithm='SAMME.R',\n",
       "          base_estimator=DecisionTreeClassifier(class_weight=None, criterion='gini', max_depth=1,\n",
       "            max_features=None, max_leaf_nodes=None,\n",
       "            min_impurity_decrease=0.0, min_impurity_split=None,\n",
       "            min_samples_leaf=1, min_samples_split=2,\n",
       "            min_weight_fraction_leaf=0.0, presort=False, random_state=None,\n",
       "            splitter='best'),\n",
       "          learning_rate=0.5, n_estimators=200, random_state=None)"
      ]
     },
     "execution_count": 11,
     "metadata": {},
     "output_type": "execute_result"
    }
   ],
   "source": [
    "from sklearn.ensemble import AdaBoostClassifier\n",
    "\n",
    "\n",
    "ada_clf = AdaBoostClassifier(DecisionTreeClassifier(max_depth=1), n_estimators=200, algorithm=\"SAMME.R\", learning_rate=0.5)\n",
    "ada_clf.fit(X_train, y_train)"
   ]
  },
  {
   "cell_type": "code",
   "execution_count": 12,
   "metadata": {},
   "outputs": [
    {
     "name": "stdout",
     "output_type": "stream",
     "text": [
      "0.896\n"
     ]
    }
   ],
   "source": [
    "y_pred_ext = ada_clf.predict(X_test)\n",
    "print(accuracy_score(y_test,y_pred_ext))"
   ]
  },
  {
   "cell_type": "code",
   "execution_count": null,
   "metadata": {},
   "outputs": [],
   "source": []
  }
 ],
 "metadata": {
  "kernelspec": {
   "display_name": "Python 3",
   "language": "python",
   "name": "python3"
  },
  "language_info": {
   "codemirror_mode": {
    "name": "ipython",
    "version": 3
   },
   "file_extension": ".py",
   "mimetype": "text/x-python",
   "name": "python",
   "nbconvert_exporter": "python",
   "pygments_lexer": "ipython3",
   "version": "3.6.6"
  }
 },
 "nbformat": 4,
 "nbformat_minor": 2
}
