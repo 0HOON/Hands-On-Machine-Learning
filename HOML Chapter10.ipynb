{
 "cells": [
  {
   "cell_type": "markdown",
   "metadata": {},
   "source": [
    "# Hands On Machine Learning CH.10 인공신경망 소개"
   ]
  },
  {
   "cell_type": "code",
   "execution_count": 1,
   "metadata": {},
   "outputs": [
    {
     "name": "stderr",
     "output_type": "stream",
     "text": [
      "C:\\ProgramData\\Anaconda3\\lib\\site-packages\\tensorflow\\python\\framework\\dtypes.py:523: FutureWarning: Passing (type, 1) or '1type' as a synonym of type is deprecated; in a future version of numpy, it will be understood as (type, (1,)) / '(1,)type'.\n",
      "  _np_qint8 = np.dtype([(\"qint8\", np.int8, 1)])\n",
      "C:\\ProgramData\\Anaconda3\\lib\\site-packages\\tensorflow\\python\\framework\\dtypes.py:524: FutureWarning: Passing (type, 1) or '1type' as a synonym of type is deprecated; in a future version of numpy, it will be understood as (type, (1,)) / '(1,)type'.\n",
      "  _np_quint8 = np.dtype([(\"quint8\", np.uint8, 1)])\n",
      "C:\\ProgramData\\Anaconda3\\lib\\site-packages\\tensorflow\\python\\framework\\dtypes.py:525: FutureWarning: Passing (type, 1) or '1type' as a synonym of type is deprecated; in a future version of numpy, it will be understood as (type, (1,)) / '(1,)type'.\n",
      "  _np_qint16 = np.dtype([(\"qint16\", np.int16, 1)])\n",
      "C:\\ProgramData\\Anaconda3\\lib\\site-packages\\tensorflow\\python\\framework\\dtypes.py:526: FutureWarning: Passing (type, 1) or '1type' as a synonym of type is deprecated; in a future version of numpy, it will be understood as (type, (1,)) / '(1,)type'.\n",
      "  _np_quint16 = np.dtype([(\"quint16\", np.uint16, 1)])\n",
      "C:\\ProgramData\\Anaconda3\\lib\\site-packages\\tensorflow\\python\\framework\\dtypes.py:527: FutureWarning: Passing (type, 1) or '1type' as a synonym of type is deprecated; in a future version of numpy, it will be understood as (type, (1,)) / '(1,)type'.\n",
      "  _np_qint32 = np.dtype([(\"qint32\", np.int32, 1)])\n",
      "C:\\ProgramData\\Anaconda3\\lib\\site-packages\\tensorflow\\python\\framework\\dtypes.py:532: FutureWarning: Passing (type, 1) or '1type' as a synonym of type is deprecated; in a future version of numpy, it will be understood as (type, (1,)) / '(1,)type'.\n",
      "  np_resource = np.dtype([(\"resource\", np.ubyte, 1)])\n"
     ]
    }
   ],
   "source": [
    "import tensorflow as tf\n",
    "import numpy as np"
   ]
  },
  {
   "cell_type": "code",
   "execution_count": 2,
   "metadata": {},
   "outputs": [],
   "source": [
    "n_inputs = 28 * 28 #For MNIST\n",
    "n_hidden1 = 300\n",
    "n_hidden2 = 100\n",
    "n_outputs = 10"
   ]
  },
  {
   "cell_type": "code",
   "execution_count": 3,
   "metadata": {},
   "outputs": [],
   "source": [
    "# function for making a neuron layer\n",
    "def neuron_layer(X, n_neurons, name, activation=None):\n",
    "    with tf.name_scope(name):\n",
    "        n_inputs = int(X.get_shape()[1])\n",
    "        stddev = 2 / np.sqrt(n_inputs + n_neurons)\n",
    "        init = tf.truncated_normal((n_inputs, n_neurons), stddev=stddev)\n",
    "        W = tf.Variable(init, name=\"kernel\")\n",
    "        b = tf.Variable(tf.zeros([n_neurons]), name=\"bias\")\n",
    "        Z = tf.matmul(X, W) + b\n",
    "        if activation is not None:\n",
    "            return activation(Z)\n",
    "        else:\n",
    "            return Z"
   ]
  },
  {
   "cell_type": "code",
   "execution_count": 4,
   "metadata": {},
   "outputs": [],
   "source": [
    "#generate graph\n",
    "learning_rate = 0.01\n",
    "\n",
    "X = tf.placeholder(tf.float32, shape=(None, n_inputs), name=\"X\")\n",
    "y = tf.placeholder(tf.int64, shape=(None), name=\"y\")\n",
    "\n",
    "with tf.name_scope(\"dnn\"):\n",
    "    hidden1 = neuron_layer(X, n_hidden1, \"hidden1\", tf.nn.relu)\n",
    "    hidden2 = neuron_layer(hidden1, n_hidden2, \"hidden2\", tf.nn.relu)\n",
    "    logits = neuron_layer(hidden2, n_outputs, \"outputs\")\n",
    "\n",
    "with tf.name_scope(\"loss\"):\n",
    "    xentropy = tf.nn.sparse_softmax_cross_entropy_with_logits(labels=y, logits=logits)\n",
    "    loss = tf.reduce_mean(xentropy, name=\"loss\")\n",
    "    \n",
    "with tf.name_scope(\"training\"):\n",
    "    optimizer = tf.train.GradientDescentOptimizer(learning_rate=learning_rate)\n",
    "    training_op = optimizer.minimize(loss)\n",
    "\n",
    "with tf.name_scope(\"eval\"):\n",
    "    correct = tf.nn.in_top_k(logits, y, 1)\n",
    "    accuracy = tf.reduce_mean(tf.cast(correct, tf.float32))\n",
    "\n",
    "init = tf.global_variables_initializer()\n",
    "saver = tf.train.Saver()"
   ]
  },
  {
   "cell_type": "code",
   "execution_count": 5,
   "metadata": {},
   "outputs": [
    {
     "name": "stdout",
     "output_type": "stream",
     "text": [
      "WARNING:tensorflow:From <ipython-input-5-f74ec125ccff>:2: read_data_sets (from tensorflow.contrib.learn.python.learn.datasets.mnist) is deprecated and will be removed in a future version.\n",
      "Instructions for updating:\n",
      "Please use alternatives such as official/mnist/dataset.py from tensorflow/models.\n",
      "WARNING:tensorflow:From C:\\ProgramData\\Anaconda3\\lib\\site-packages\\tensorflow\\contrib\\learn\\python\\learn\\datasets\\mnist.py:260: maybe_download (from tensorflow.contrib.learn.python.learn.datasets.base) is deprecated and will be removed in a future version.\n",
      "Instructions for updating:\n",
      "Please write your own downloading logic.\n",
      "WARNING:tensorflow:From C:\\ProgramData\\Anaconda3\\lib\\site-packages\\tensorflow\\contrib\\learn\\python\\learn\\datasets\\mnist.py:262: extract_images (from tensorflow.contrib.learn.python.learn.datasets.mnist) is deprecated and will be removed in a future version.\n",
      "Instructions for updating:\n",
      "Please use tf.data to implement this functionality.\n",
      "Extracting tmp/data/train-images-idx3-ubyte.gz\n",
      "WARNING:tensorflow:From C:\\ProgramData\\Anaconda3\\lib\\site-packages\\tensorflow\\contrib\\learn\\python\\learn\\datasets\\mnist.py:267: extract_labels (from tensorflow.contrib.learn.python.learn.datasets.mnist) is deprecated and will be removed in a future version.\n",
      "Instructions for updating:\n",
      "Please use tf.data to implement this functionality.\n",
      "Extracting tmp/data/train-labels-idx1-ubyte.gz\n",
      "Extracting tmp/data/t10k-images-idx3-ubyte.gz\n",
      "Extracting tmp/data/t10k-labels-idx1-ubyte.gz\n",
      "WARNING:tensorflow:From C:\\ProgramData\\Anaconda3\\lib\\site-packages\\tensorflow\\contrib\\learn\\python\\learn\\datasets\\mnist.py:290: DataSet.__init__ (from tensorflow.contrib.learn.python.learn.datasets.mnist) is deprecated and will be removed in a future version.\n",
      "Instructions for updating:\n",
      "Please use alternatives such as official/mnist/dataset.py from tensorflow/models.\n"
     ]
    }
   ],
   "source": [
    "from tensorflow.examples.tutorials.mnist import input_data\n",
    "mnist = input_data.read_data_sets(\"tmp/data/\")"
   ]
  },
  {
   "cell_type": "code",
   "execution_count": 6,
   "metadata": {},
   "outputs": [],
   "source": [
    "n_epochs = 40\n",
    "batch_size = 50"
   ]
  },
  {
   "cell_type": "code",
   "execution_count": 12,
   "metadata": {},
   "outputs": [
    {
     "name": "stdout",
     "output_type": "stream",
     "text": [
      "0 Train accuracy: 0.98 Validation accuracy: 0.917\n",
      "1 Train accuracy: 0.98 Validation accuracy: 0.9326\n",
      "2 Train accuracy: 0.98 Validation accuracy: 0.9394\n",
      "3 Train accuracy: 0.98 Validation accuracy: 0.9492\n",
      "4 Train accuracy: 0.9 Validation accuracy: 0.9528\n",
      "5 Train accuracy: 1.0 Validation accuracy: 0.958\n",
      "6 Train accuracy: 0.94 Validation accuracy: 0.9586\n",
      "7 Train accuracy: 0.98 Validation accuracy: 0.9638\n",
      "8 Train accuracy: 1.0 Validation accuracy: 0.9658\n",
      "9 Train accuracy: 0.98 Validation accuracy: 0.9654\n",
      "10 Train accuracy: 1.0 Validation accuracy: 0.968\n",
      "11 Train accuracy: 0.98 Validation accuracy: 0.9692\n",
      "12 Train accuracy: 1.0 Validation accuracy: 0.9716\n",
      "13 Train accuracy: 1.0 Validation accuracy: 0.9704\n",
      "14 Train accuracy: 0.98 Validation accuracy: 0.973\n",
      "15 Train accuracy: 0.98 Validation accuracy: 0.9716\n",
      "16 Train accuracy: 0.96 Validation accuracy: 0.9742\n",
      "17 Train accuracy: 0.98 Validation accuracy: 0.9742\n",
      "18 Train accuracy: 1.0 Validation accuracy: 0.9748\n",
      "19 Train accuracy: 1.0 Validation accuracy: 0.9756\n",
      "20 Train accuracy: 1.0 Validation accuracy: 0.9734\n",
      "21 Train accuracy: 1.0 Validation accuracy: 0.9744\n",
      "22 Train accuracy: 1.0 Validation accuracy: 0.9758\n",
      "23 Train accuracy: 1.0 Validation accuracy: 0.977\n",
      "24 Train accuracy: 1.0 Validation accuracy: 0.975\n",
      "25 Train accuracy: 1.0 Validation accuracy: 0.9766\n",
      "26 Train accuracy: 1.0 Validation accuracy: 0.9788\n",
      "27 Train accuracy: 1.0 Validation accuracy: 0.9778\n",
      "28 Train accuracy: 1.0 Validation accuracy: 0.9774\n",
      "29 Train accuracy: 1.0 Validation accuracy: 0.978\n",
      "30 Train accuracy: 1.0 Validation accuracy: 0.9782\n",
      "31 Train accuracy: 1.0 Validation accuracy: 0.9788\n",
      "32 Train accuracy: 1.0 Validation accuracy: 0.9768\n",
      "33 Train accuracy: 1.0 Validation accuracy: 0.9778\n",
      "34 Train accuracy: 1.0 Validation accuracy: 0.9786\n",
      "35 Train accuracy: 1.0 Validation accuracy: 0.9796\n",
      "36 Train accuracy: 1.0 Validation accuracy: 0.9794\n",
      "37 Train accuracy: 1.0 Validation accuracy: 0.9794\n",
      "38 Train accuracy: 1.0 Validation accuracy: 0.9782\n",
      "39 Train accuracy: 1.0 Validation accuracy: 0.9788\n"
     ]
    }
   ],
   "source": [
    "#Run\n",
    "with tf.Session() as sess:\n",
    "    init.run()\n",
    "    for epoch in range(n_epochs):\n",
    "        for iteration in range(mnist.train.num_examples // batch_size):\n",
    "            X_batch, y_batch = mnist.train.next_batch(batch_size)\n",
    "            sess.run(training_op, feed_dict={X: X_batch, y: y_batch})\n",
    "        acc_train = accuracy.eval(feed_dict={X: X_batch, y: y_batch})\n",
    "        acc_val = accuracy.eval(feed_dict={X:mnist.validation.images, y: mnist.validation.labels})\n",
    "        \n",
    "        print(epoch, \"Train accuracy:\", acc_train, \"Validation accuracy:\", acc_val)\n",
    "    \n",
    "    save_path = saver.save(sess, \"models/my_model_final_ch10\")"
   ]
  },
  {
   "cell_type": "markdown",
   "metadata": {},
   "source": [
    "# 연습문제 9"
   ]
  },
  {
   "cell_type": "code",
   "execution_count": 9,
   "metadata": {},
   "outputs": [],
   "source": [
    "from datetime import datetime\n",
    "\n",
    "def log_dir(prefix=\"\"):\n",
    "    now = datetime.utcnow().strftime(\"%Y%m%d%H%M%S\")\n",
    "    root_logdir = \"tf_logs\"\n",
    "    if prefix:\n",
    "        prefix += \"-\"\n",
    "    name = prefix + \"run-\" + now\n",
    "    return\"{}/{}/\".format(root_logdir, name)"
   ]
  },
  {
   "cell_type": "code",
   "execution_count": 16,
   "metadata": {},
   "outputs": [],
   "source": [
    "#generate graph\n",
    "tf.reset_default_graph()\n",
    "\n",
    "n_hidden = 150\n",
    "n_outputs = 10\n",
    "\n",
    "learning_rate = 0.01\n",
    "\n",
    "X = tf.placeholder(tf.float32, shape=(None, n_inputs), name=\"X\")\n",
    "y = tf.placeholder(tf.int64, shape=(None), name=\"y\")\n",
    "\n",
    "with tf.name_scope(\"dnn_3\"):\n",
    "    hidden1 = neuron_layer(X, n_hidden, \"hidden1\", tf.nn.relu)\n",
    "    hidden2 = neuron_layer(hidden1, n_hidden, \"hidden2\", tf.nn.relu)\n",
    "    hidden3 = neuron_layer(hidden2, n_hidden, \"hidden3\", tf.nn.relu)\n",
    "    logits = neuron_layer(hidden3, n_outputs, \"outputs\")\n",
    "\n",
    "with tf.name_scope(\"loss\"):\n",
    "    xentropy = tf.nn.sparse_softmax_cross_entropy_with_logits(labels=y, logits=logits)\n",
    "    loss = tf.reduce_mean(xentropy, name=\"loss\")\n",
    "    loss_summary = tf.summary.scalar('log_loss', loss)\n",
    "    \n",
    "with tf.name_scope(\"training\"):\n",
    "    optimizer = tf.train.GradientDescentOptimizer(learning_rate=learning_rate)\n",
    "    training_op = optimizer.minimize(loss)\n",
    "\n",
    "with tf.name_scope(\"eval\"):\n",
    "    correct = tf.nn.in_top_k(logits, y, 1)\n",
    "    accuracy = tf.reduce_mean(tf.cast(correct, tf.float32))\n",
    "\n",
    "init = tf.global_variables_initializer()\n",
    "saver = tf.train.Saver()\n",
    "file_writer = tf.summary.FileWriter(log_dir(\"Ch10\"), tf.get_default_graph())"
   ]
  },
  {
   "cell_type": "code",
   "execution_count": 17,
   "metadata": {},
   "outputs": [],
   "source": [
    "import os"
   ]
  },
  {
   "cell_type": "code",
   "execution_count": 18,
   "metadata": {
    "scrolled": true
   },
   "outputs": [
    {
     "name": "stdout",
     "output_type": "stream",
     "text": [
      "0 Train accuracy: 0.9 Validation accuracy: 0.9172 Loss: 0.30678248\n",
      "5 Train accuracy: 0.94 Validation accuracy: 0.9622 Loss: 0.1440921\n",
      "10 Train accuracy: 0.94 Validation accuracy: 0.9696 Loss: 0.10791129\n",
      "15 Train accuracy: 0.98 Validation accuracy: 0.9714 Loss: 0.09423424\n",
      "20 Train accuracy: 1.0 Validation accuracy: 0.9734 Loss: 0.08648707\n",
      "25 Train accuracy: 1.0 Validation accuracy: 0.9742 Loss: 0.080348164\n",
      "30 Train accuracy: 1.0 Validation accuracy: 0.9762 Loss: 0.07825443\n",
      "35 Train accuracy: 1.0 Validation accuracy: 0.9756 Loss: 0.08037265\n",
      "40 Train accuracy: 1.0 Validation accuracy: 0.9774 Loss: 0.07869107\n",
      "45 Train accuracy: 1.0 Validation accuracy: 0.9774 Loss: 0.08047566\n",
      "50 Train accuracy: 1.0 Validation accuracy: 0.977 Loss: 0.08410866\n",
      "55 Train accuracy: 1.0 Validation accuracy: 0.9796 Loss: 0.08289072\n",
      "60 Train accuracy: 1.0 Validation accuracy: 0.9786 Loss: 0.085260384\n",
      "65 Train accuracy: 1.0 Validation accuracy: 0.979 Loss: 0.08576173\n",
      "70 Train accuracy: 1.0 Validation accuracy: 0.9786 Loss: 0.08841411\n",
      "75 Train accuracy: 1.0 Validation accuracy: 0.9802 Loss: 0.08873321\n",
      "80 Train accuracy: 1.0 Validation accuracy: 0.9804 Loss: 0.08964296\n",
      "85 Train accuracy: 1.0 Validation accuracy: 0.9798 Loss: 0.091050014\n",
      "90 Train accuracy: 1.0 Validation accuracy: 0.9788 Loss: 0.093444444\n",
      "95 Train accuracy: 1.0 Validation accuracy: 0.9784 Loss: 0.09405781\n",
      "100 Train accuracy: 1.0 Validation accuracy: 0.9788 Loss: 0.094800055\n",
      "105 Train accuracy: 1.0 Validation accuracy: 0.9788 Loss: 0.096855626\n",
      "학습 종료\n"
     ]
    }
   ],
   "source": [
    "n_epochs = 10001\n",
    "batch_size = 50\n",
    "best_accuracy = 0\n",
    "epochs_without_progress = 0\n",
    "max_epochs_without_progress = 50\n",
    "\n",
    "checkpoint_path = \"tmp/10. my_dnn_model.ckpt\"\n",
    "checkpoint_epoch_path = checkpoint_path + \".epoch\"\n",
    "final_model_path = \"models/10. my_dnn_model\"\n",
    "\n",
    "#Run\n",
    "with tf.Session() as sess:\n",
    "    if os.path.isfile(checkpoint_epoch_path):\n",
    "        with open(checkpoint_epoch_path, 'rb') as f:\n",
    "            start_epoch = int(f.read())\n",
    "        print(\"중지되었던 훈련입니다. 이어서 훈련합니다.\", start_epoch)\n",
    "        saver.restore(sess, checkpoint_path)\n",
    "    else:\n",
    "        start_epoch = 0\n",
    "        init.run()\n",
    "    for epoch in range(start_epoch, n_epochs):\n",
    "        for iteration in range(mnist.train.num_examples // batch_size):\n",
    "            X_batch, y_batch = mnist.train.next_batch(batch_size)\n",
    "            sess.run(training_op, feed_dict={X: X_batch, y: y_batch})\n",
    "        acc_train = accuracy.eval(feed_dict={X: X_batch, y: y_batch})\n",
    "        acc_val, loss_val, summary_str = sess.run([accuracy, loss, loss_summary], feed_dict={X:mnist.validation.images, y: mnist.validation.labels})\n",
    "        file_writer.add_summary(summary_str, epoch)\n",
    "        if epoch % 5 == 0:\n",
    "            print(epoch, \"Train accuracy:\", acc_train, \"Validation accuracy:\", acc_val, \"Loss:\", loss_val)\n",
    "            saver.save(sess, checkpoint_path)\n",
    "            with open(checkpoint_epoch_path, \"wb\") as f:\n",
    "                f.write(b\"%d\" % (epoch+1))\n",
    "            if acc_val > best_accuracy:\n",
    "                best_accuracy = acc_val\n",
    "            else:\n",
    "                epochs_without_progress += 5\n",
    "                if epochs_without_progress > max_epochs_without_progress:\n",
    "                    print(\"학습 종료\")\n",
    "                    break\n",
    "    \n",
    "    save_path = saver.save(sess, final_model_path)\n",
    "    os.remove(checkpoint_epoch_path)"
   ]
  },
  {
   "attachments": {
    "image.png": {
     "image/png": "[encoded data removed]"
    }
   },
   "cell_type": "markdown",
   "metadata": {},
   "source": [
    "![image.png](attachment:image.png)"
   ]
  }
 ],
 "metadata": {
  "kernelspec": {
   "display_name": "Python 3",
   "language": "python",
   "name": "python3"
  },
  "language_info": {
   "codemirror_mode": {
    "name": "ipython",
    "version": 3
   },
   "file_extension": ".py",
   "mimetype": "text/x-python",
   "name": "python",
   "nbconvert_exporter": "python",
   "pygments_lexer": "ipython3",
   "version": "3.6.9"
  }
 },
 "nbformat": 4,
 "nbformat_minor": 2
}
