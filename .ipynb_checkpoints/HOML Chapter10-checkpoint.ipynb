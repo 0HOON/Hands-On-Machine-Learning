{
 "cells": [
  {
   "cell_type": "markdown",
   "metadata": {},
   "source": [
    "# Hands On Machine Learning CH.10 인공신경망 소개"
   ]
  },
  {
   "cell_type": "code",
   "execution_count": 3,
   "metadata": {},
   "outputs": [],
   "source": [
    "import tensorflow as tf\n",
    "import numpy as np"
   ]
  },
  {
   "cell_type": "code",
   "execution_count": 2,
   "metadata": {},
   "outputs": [],
   "source": [
    "n_inputs = 28 * 28 #For MNIST\n",
    "n_hidden1 = 300\n",
    "n_hidden2 = 100\n",
    "n_outputs = 10"
   ]
  },
  {
   "cell_type": "code",
   "execution_count": 4,
   "metadata": {},
   "outputs": [],
   "source": [
    "# function for making a neuron layer\n",
    "def neuron_layer(X, n_neurons, name, activation=None):\n",
    "    with tf.name_scope(name):\n",
    "        n_inputs = int(X.get_shape()[1])\n",
    "        stddev = 2 / np.sqrt(n_inputs + n_neurons)\n",
    "        init = tf.truncated_normal((n_inputs, n_neurons), stddev=stddev)\n",
    "        W = tf.Variable(init, name=\"kernel\")\n",
    "        b = tf.Variable(tf.zeros([n_neurons]), name=\"bias\")\n",
    "        Z = tf.matmul(X, W) + b\n",
    "        if activation is not None:\n",
    "            return activation(Z)\n",
    "        else:\n",
    "            return Z"
   ]
  },
  {
   "cell_type": "code",
   "execution_count": 6,
   "metadata": {},
   "outputs": [],
   "source": [
    "#generate graph\n",
    "learning_rate = 0.01\n",
    "\n",
    "X = tf.placeholder(tf.float32, shape=(None, n_inputs), name=\"X\")\n",
    "y = tf.placeholder(tf.int64, shape=(None), name=\"y\")\n",
    "\n",
    "with tf.name_scope(\"dnn\"):\n",
    "    hidden1 = neuron_layer(X, n_hidden1, \"hidden1\", tf.nn.relu)\n",
    "    hidden2 = neuron_layer(hidden1, n_hidden2, \"hidden2\", tf.nn.relu)\n",
    "    logits = neuron_layer(hidden2, n_outputs, \"outputs\")\n",
    "\n",
    "with tf.name_scope(\"loss\"):\n",
    "    xentropy = tf.nn.sparse_softmax_cross_entropy_with_logits(labels=y, logits=logits)\n",
    "    loss = tf.reduce_mean(xentropy, name=\"loss\")\n",
    "    \n",
    "with tf.name_scope(\"training\"):\n",
    "    optimizer = tf.train.GradientDescentOptimizer(learning_rate=learning_rate)\n",
    "    training_op = optimizer.minimize(loss)\n",
    "\n",
    "with tf.name_scope(\"eval\"):\n",
    "    correct = tf.nn.in_top_k(logits, y, 1)\n",
    "    accuracy = tf.reduce_mean(tf.cast(correct, tf.float32))\n",
    "\n",
    "init = tf.global_variables_initializer()\n",
    "saver = tf.train.Saver()"
   ]
  },
  {
   "cell_type": "code",
   "execution_count": 7,
   "metadata": {},
   "outputs": [
    {
     "name": "stdout",
     "output_type": "stream",
     "text": [
      "WARNING:tensorflow:From <ipython-input-7-f74ec125ccff>:2: read_data_sets (from tensorflow.contrib.learn.python.learn.datasets.mnist) is deprecated and will be removed in a future version.\n",
      "Instructions for updating:\n",
      "Please use alternatives such as official/mnist/dataset.py from tensorflow/models.\n",
      "WARNING:tensorflow:From C:\\ProgramData\\Anaconda3\\lib\\site-packages\\tensorflow\\contrib\\learn\\python\\learn\\datasets\\mnist.py:260: maybe_download (from tensorflow.contrib.learn.python.learn.datasets.base) is deprecated and will be removed in a future version.\n",
      "Instructions for updating:\n",
      "Please write your own downloading logic.\n",
      "WARNING:tensorflow:From C:\\ProgramData\\Anaconda3\\lib\\site-packages\\tensorflow\\contrib\\learn\\python\\learn\\datasets\\mnist.py:262: extract_images (from tensorflow.contrib.learn.python.learn.datasets.mnist) is deprecated and will be removed in a future version.\n",
      "Instructions for updating:\n",
      "Please use tf.data to implement this functionality.\n",
      "Extracting tmp/data/train-images-idx3-ubyte.gz\n",
      "WARNING:tensorflow:From C:\\ProgramData\\Anaconda3\\lib\\site-packages\\tensorflow\\contrib\\learn\\python\\learn\\datasets\\mnist.py:267: extract_labels (from tensorflow.contrib.learn.python.learn.datasets.mnist) is deprecated and will be removed in a future version.\n",
      "Instructions for updating:\n",
      "Please use tf.data to implement this functionality.\n",
      "Extracting tmp/data/train-labels-idx1-ubyte.gz\n",
      "Extracting tmp/data/t10k-images-idx3-ubyte.gz\n",
      "Extracting tmp/data/t10k-labels-idx1-ubyte.gz\n",
      "WARNING:tensorflow:From C:\\ProgramData\\Anaconda3\\lib\\site-packages\\tensorflow\\contrib\\learn\\python\\learn\\datasets\\mnist.py:290: DataSet.__init__ (from tensorflow.contrib.learn.python.learn.datasets.mnist) is deprecated and will be removed in a future version.\n",
      "Instructions for updating:\n",
      "Please use alternatives such as official/mnist/dataset.py from tensorflow/models.\n"
     ]
    }
   ],
   "source": [
    "from tensorflow.examples.tutorials.mnist import input_data\n",
    "mnist = input_data.read_data_sets(\"tmp/data/\")"
   ]
  },
  {
   "cell_type": "code",
   "execution_count": 8,
   "metadata": {},
   "outputs": [],
   "source": [
    "n_epochs = 40\n",
    "batch_size = 50"
   ]
  },
  {
   "cell_type": "code",
   "execution_count": 10,
   "metadata": {},
   "outputs": [
    {
     "name": "stdout",
     "output_type": "stream",
     "text": [
      "0 Train accuracy: 0.9 Validation accuracy: 0.913\n",
      "1 Train accuracy: 0.9 Validation accuracy: 0.9322\n",
      "2 Train accuracy: 0.98 Validation accuracy: 0.9402\n",
      "3 Train accuracy: 0.94 Validation accuracy: 0.9466\n",
      "4 Train accuracy: 0.98 Validation accuracy: 0.95\n",
      "5 Train accuracy: 0.96 Validation accuracy: 0.9524\n",
      "6 Train accuracy: 0.98 Validation accuracy: 0.956\n",
      "7 Train accuracy: 0.92 Validation accuracy: 0.9586\n",
      "8 Train accuracy: 0.92 Validation accuracy: 0.9624\n",
      "9 Train accuracy: 0.92 Validation accuracy: 0.9624\n",
      "10 Train accuracy: 0.98 Validation accuracy: 0.9652\n",
      "11 Train accuracy: 0.98 Validation accuracy: 0.9662\n",
      "12 Train accuracy: 0.94 Validation accuracy: 0.9688\n",
      "13 Train accuracy: 0.98 Validation accuracy: 0.9698\n",
      "14 Train accuracy: 0.98 Validation accuracy: 0.9694\n",
      "15 Train accuracy: 0.94 Validation accuracy: 0.969\n",
      "16 Train accuracy: 1.0 Validation accuracy: 0.9718\n",
      "17 Train accuracy: 0.96 Validation accuracy: 0.9718\n",
      "18 Train accuracy: 0.98 Validation accuracy: 0.972\n",
      "19 Train accuracy: 0.98 Validation accuracy: 0.9732\n",
      "20 Train accuracy: 1.0 Validation accuracy: 0.9736\n",
      "21 Train accuracy: 0.98 Validation accuracy: 0.9734\n",
      "22 Train accuracy: 1.0 Validation accuracy: 0.9742\n",
      "23 Train accuracy: 1.0 Validation accuracy: 0.972\n",
      "24 Train accuracy: 1.0 Validation accuracy: 0.9738\n",
      "25 Train accuracy: 0.98 Validation accuracy: 0.9746\n",
      "26 Train accuracy: 1.0 Validation accuracy: 0.975\n",
      "27 Train accuracy: 1.0 Validation accuracy: 0.9758\n",
      "28 Train accuracy: 0.98 Validation accuracy: 0.9742\n",
      "29 Train accuracy: 1.0 Validation accuracy: 0.9744\n",
      "30 Train accuracy: 1.0 Validation accuracy: 0.9764\n",
      "31 Train accuracy: 1.0 Validation accuracy: 0.9758\n",
      "32 Train accuracy: 1.0 Validation accuracy: 0.9746\n",
      "33 Train accuracy: 0.98 Validation accuracy: 0.977\n",
      "34 Train accuracy: 1.0 Validation accuracy: 0.976\n",
      "35 Train accuracy: 1.0 Validation accuracy: 0.9772\n",
      "36 Train accuracy: 1.0 Validation accuracy: 0.9776\n",
      "37 Train accuracy: 0.98 Validation accuracy: 0.9768\n",
      "38 Train accuracy: 0.98 Validation accuracy: 0.9774\n",
      "39 Train accuracy: 0.98 Validation accuracy: 0.9782\n"
     ]
    }
   ],
   "source": [
    "#Run\n",
    "with tf.Session() as sess:\n",
    "    init.run()\n",
    "    for epoch in range(n_epochs):\n",
    "        for iteration in range(mnist.train.num_examples // batch_size):\n",
    "            X_batch, y_batch = mnist.train.next_batch(batch_size)\n",
    "            sess.run(training_op, feed_dict={X: X_batch, y: y_batch})\n",
    "        acc_train = accuracy.eval(feed_dict={X: X_batch, y: y_batch})\n",
    "        acc_val = accuracy.eval(feed_dict={X:mnist.validation.images, y: mnist.validation.labels})\n",
    "        \n",
    "        print(epoch, \"Train accuracy:\", acc_train, \"Validation accuracy:\", acc_val)\n",
    "    \n",
    "    save_path = saver.save(sess, \"./my_model_final_ch10.ckpt\")"
   ]
  },
  {
   "cell_type": "code",
   "execution_count": null,
   "metadata": {},
   "outputs": [],
   "source": []
  }
 ],
 "metadata": {
  "kernelspec": {
   "display_name": "Python 3",
   "language": "python",
   "name": "python3"
  },
  "language_info": {
   "codemirror_mode": {
    "name": "ipython",
    "version": 3
   },
   "file_extension": ".py",
   "mimetype": "text/x-python",
   "name": "python",
   "nbconvert_exporter": "python",
   "pygments_lexer": "ipython3",
   "version": "3.6.9"
  }
 },
 "nbformat": 4,
 "nbformat_minor": 2
}
